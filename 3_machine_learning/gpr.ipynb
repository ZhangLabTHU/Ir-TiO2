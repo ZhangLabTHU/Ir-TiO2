{
 "cells": [
  {
   "cell_type": "code",
   "execution_count": 1,
   "metadata": {},
   "outputs": [],
   "source": [
    "import numpy as np\n",
    "import ase.db\n",
    "from sklearn.model_selection import train_test_split\n",
    "from sklearn.preprocessing import StandardScaler\n",
    "from sklearn.decomposition import PCA\n",
    "import math\n",
    "from sklearn.metrics import mean_absolute_error, mean_squared_error, r2_score\n",
    "import seaborn as sns\n",
    "import pandas as pd\n",
    "import pickle\n",
    "import matplotlib.pyplot as plt\n",
    "import sklearn.gaussian_process as gp\n",
    "import random"
   ]
  },
  {
   "cell_type": "markdown",
   "metadata": {},
   "source": [
    "# Adsorption Energy Model"
   ]
  },
  {
   "cell_type": "code",
   "execution_count": 2,
   "metadata": {},
   "outputs": [],
   "source": [
    "x = np.loadtxt(\"../2_feature/feature.csv\", delimiter=\",\",encoding='utf-8-sig')\n",
    "y = np.loadtxt(\"../2_feature/energy.csv\", delimiter=\",\",encoding='utf-8-sig')"
   ]
  },
  {
   "cell_type": "code",
   "execution_count": 3,
   "metadata": {},
   "outputs": [],
   "source": [
    "kernel = gp.kernels.ConstantKernel(constant_value=1,constant_value_bounds=(1e-1,1e3)) *gp.kernels.RBF(length_scale=10, length_scale_bounds=(1e-1, 1e3))\n",
    "gpr_model = gp.GaussianProcessRegressor(kernel=kernel,\n",
    "                                        n_restarts_optimizer=50,\n",
    "                                        alpha=0.1,\n",
    "                                        normalize_y=True)"
   ]
  },
  {
   "cell_type": "code",
   "execution_count": 4,
   "metadata": {},
   "outputs": [
    {
     "name": "stdout",
     "output_type": "stream",
     "text": [
      "x_train shape after PCA: (112, 9)\n",
      "x_train shape after PCA: (112, 9)\n",
      "x_train shape after PCA: (112, 9)\n",
      "x_train shape after PCA: (112, 9)\n",
      "x_train shape after PCA: (112, 9)\n",
      "x_train shape after PCA: (112, 9)\n",
      "x_train shape after PCA: (112, 9)\n",
      "x_train shape after PCA: (112, 9)\n",
      "x_train shape after PCA: (112, 9)\n",
      "x_train shape after PCA: (112, 9)\n",
      "MAE train: 0.034832090390547424 R2 train: 0.9639281600636382\n",
      "MAE train: 0.060522128901621695 R2 train: 0.8846425880891717\n"
     ]
    }
   ],
   "source": [
    "standardscaler = StandardScaler()\n",
    "pca = PCA(0.99)\n",
    "MAE_TRAIN = []\n",
    "R2_TRAIN = []\n",
    "MAE_TEST = []\n",
    "R2_TEST = []\n",
    "\n",
    "for i in range(0,10):\n",
    "    x_train, x_test, y_train, y_test = train_test_split(x, y, train_size=0.8,test_size=0.2, random_state=i)\n",
    "    standardscaler = StandardScaler()\n",
    "    pca = PCA(0.99)\n",
    "    X_train = standardscaler.fit_transform(x_train)\n",
    "    X_train = pca.fit_transform(X_train)\n",
    "    print('x_train shape after PCA:',X_train.shape)\n",
    "    X_test = standardscaler.transform(x_test)\n",
    "    X_test = pca.transform(X_test)  \n",
    "    gpr_model.fit(X_train, y_train)\n",
    "    y_train_predict=gpr_model.predict(X_train)\n",
    "    y_test_predict=gpr_model.predict(X_test)\n",
    "    MAE_train = mean_absolute_error(y_pred=y_train_predict, y_true=y_train)\n",
    "    R2_train = r2_score(y_pred=y_train_predict, y_true=y_train)\n",
    "    MAE_test = mean_absolute_error(y_pred=y_test_predict, y_true=y_test)\n",
    "    R2_test = r2_score(y_pred=y_test_predict, y_true=y_test)\n",
    "    MAE_TRAIN.append(MAE_train)\n",
    "    MAE_TEST.append(MAE_test)\n",
    "    R2_TRAIN.append(R2_train)\n",
    "    R2_TEST.append(R2_test)\n",
    "    \n",
    "print('MAE train:',np.mean(MAE_TRAIN),'R2 train:',np.mean(R2_TRAIN))\n",
    "print('MAE train:',np.mean(MAE_TEST),'R2 train:',np.mean(R2_TEST))"
   ]
  },
  {
   "cell_type": "code",
   "execution_count": 6,
   "metadata": {},
   "outputs": [
    {
     "name": "stdout",
     "output_type": "stream",
     "text": [
      "x_train shape after PCA: (112, 9)\n",
      "MAE train: 0.03194812981286794 R2 train: 0.9664544658882633\n",
      "MAE test: 0.06117459778653752 R2 test: 0.9186622965051697\n"
     ]
    },
    {
     "data": {
      "image/png": "[encoded data removed]",
      "text/plain": [
       "<Figure size 432x432 with 1 Axes>"
      ]
     },
     "metadata": {
      "needs_background": "light"
     },
     "output_type": "display_data"
    }
   ],
   "source": [
    "x_train, x_test, y_train, y_test = train_test_split(x, y, train_size=0.8, test_size=0.2, random_state=3)\n",
    "standardscaler = StandardScaler()\n",
    "pca = PCA(0.99)\n",
    "X_train = standardscaler.fit_transform(x_train)\n",
    "X_train = pca.fit_transform(X_train)\n",
    "print('x_train shape after PCA:',X_train.shape)\n",
    "X_test = standardscaler.transform(x_test)\n",
    "X_test = pca.transform(X_test)  \n",
    "gpr_model.fit(X_train, y_train)\n",
    "y_train_predict=gpr_model.predict(X_train)\n",
    "y_test_predict=gpr_model.predict(X_test)\n",
    "MAE_train = mean_absolute_error(y_pred=y_train_predict, y_true=y_train)\n",
    "R2_train = r2_score(y_pred=y_train_predict, y_true=y_train)\n",
    "MAE_test = mean_absolute_error(y_pred=y_test_predict, y_true=y_test)\n",
    "R2_test = r2_score(y_pred=y_test_predict, y_true=y_test)\n",
    "\n",
    "\n",
    "print('MAE train:',MAE_train,'R2 train:',R2_train)\n",
    "print('MAE test:',MAE_test,'R2 test:',R2_test)\n",
    "\n",
    "# Make the joint plot\n",
    "plt.rc('font',family='Times New Roman')\n",
    "plt.rcParams['xtick.direction']='in'\n",
    "plt.rcParams['ytick.direction']='in'\n",
    "\n",
    "xmin=min(y_train_predict)-0.2\n",
    "xmax=max(y_train_predict)+0.2\n",
    "x_lim=np.linspace(xmin,xmax,20)\n",
    "\n",
    "fig,ax=plt.subplots(figsize=(6,6))\n",
    "plt.xlim([xmin,xmax])\n",
    "plt.ylim([xmin,xmax])\n",
    "plt.xticks([1.0, 1.5, 2.0, 2.5])\n",
    "plt.yticks([1.0, 1.5, 2.0, 2.5])\n",
    "\n",
    "plt.scatter(y_train_predict,y_train,color='#D78242', s=80)\n",
    "plt.scatter(y_test_predict, y_test, color='#488D6B', s=80)\n",
    "plt.legend(['train','test'],fontsize=18,frameon=False)\n",
    "plt.plot(x_lim,x_lim,linestyle='--',color='dimgray')\n",
    "plt.tick_params(labelsize=16)\n",
    "\n",
    "plt.xlabel('GPR energies (eV)',fontsize=24)\n",
    "plt.ylabel('DFT energies (eV)',fontsize=24)\n",
    "plt.savefig('parity plot.png',dpi=1000)"
   ]
  },
  {
   "cell_type": "code",
   "execution_count": 7,
   "metadata": {},
   "outputs": [],
   "source": [
    "# save gpr model and preprocessing model \n",
    "import pickle\n",
    "from sklearn.pipeline import Pipeline\n",
    "\n",
    "s = pickle.dumps(gpr_model)\n",
    "with open('GPRmodel.model','wb+') as f:\n",
    "    f.write(s)\n",
    "    \n",
    "steps = [('scaler', standardscaler),('pca', pca)]\n",
    "pipeline = Pipeline(steps)\n",
    "with open('Preprocessing.pkl', 'wb+') as f:\n",
    "    pickle.dump(pipeline, f)"
   ]
  }
 ],
 "metadata": {
  "kernelspec": {
   "display_name": "Python [conda env:root] *",
   "language": "python",
   "name": "conda-root-py"
  },
  "language_info": {
   "codemirror_mode": {
    "name": "ipython",
    "version": 3
   },
   "file_extension": ".py",
   "mimetype": "text/x-python",
   "name": "python",
   "nbconvert_exporter": "python",
   "pygments_lexer": "ipython3",
   "version": "3.7.4"
  }
 },
 "nbformat": 4,
 "nbformat_minor": 4
}
